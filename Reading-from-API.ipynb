{
 "cells": [
  {
   "cell_type": "markdown",
   "metadata": {},
   "source": [
    "### API Status Codes:\n",
    "    200: Everything went okay, and the result has been returned (if any).\n",
    "    301: The server is redirecting you to a different endpoint. \n",
    "         This can happen when a company switches domain names, or an endpoint name is changed.\n",
    "    400: The server thinks you made a bad request. This can happen when you don’t send along the right data, \n",
    "         among other things.\n",
    "    401: The server thinks you’re not authenticated. Many APIs require login ccredentials, so this happens \n",
    "         when you don’t send the right credentials to access an API.\n",
    "    403: The resource you’re trying to access is forbidden: you don’t have the right permissions to see it.\n",
    "    404: The resource you tried to access wasn’t found on the server.\n",
    "    503: The server is not ready to handle the request."
   ]
  },
  {
   "cell_type": "markdown",
   "metadata": {},
   "source": [
    "### Connect to API using Get Request"
   ]
  },
  {
   "cell_type": "code",
   "execution_count": 2,
   "metadata": {},
   "outputs": [
    {
     "name": "stdout",
     "output_type": "stream",
     "text": [
      "200\n"
     ]
    }
   ],
   "source": [
    "import requests\n",
    "\n",
    "#Get access key from fixer.io, after subsription and replace it here:\n",
    "url = \"http://data.fixer.io/api/latest?access_key=?????????????????????\"\n",
    "\n",
    "response = requests.get(url)\n",
    "print(response.status_code)"
   ]
  },
  {
   "cell_type": "code",
   "execution_count": 3,
   "metadata": {},
   "outputs": [
    {
     "data": {
      "text/plain": [
       "{'success': True,\n",
       " 'timestamp': 1605514145,\n",
       " 'base': 'EUR',\n",
       " 'date': '2020-11-16',\n",
       " 'rates': {'AED': 4.356802,\n",
       "  'AFN': 91.13345,\n",
       "  'ALL': 123.799778,\n",
       "  'AMD': 588.237636,\n",
       "  'ANG': 2.123011,\n",
       "  'AOA': 790.416245,\n",
       "  'ARS': 94.579644,\n",
       "  'AUD': 1.624544,\n",
       "  'AWG': 2.134991,\n",
       "  'AZN': 2.010027,\n",
       "  'BAM': 1.957754,\n",
       "  'BBD': 2.388025,\n",
       "  'BDT': 100.35505,\n",
       "  'BGN': 1.958931,\n",
       "  'BHD': 0.447257,\n",
       "  'BIF': 2290.486042,\n",
       "  'BMD': 1.186106,\n",
       "  'BND': 1.595286,\n",
       "  'BOB': 8.156418,\n",
       "  'BRL': 6.473688,\n",
       "  'BSD': 1.182753,\n",
       "  'BTC': 7.3054847e-05,\n",
       "  'BTN': 88.280981,\n",
       "  'BWP': 13.244475,\n",
       "  'BYN': 3.034446,\n",
       "  'BYR': 23247.676715,\n",
       "  'BZD': 2.384021,\n",
       "  'CAD': 1.553212,\n",
       "  'CDF': 2331.884491,\n",
       "  'CHF': 1.079659,\n",
       "  'CLF': 0.032974,\n",
       "  'CLP': 909.855859,\n",
       "  'CNY': 7.801369,\n",
       "  'COP': 4321.458436,\n",
       "  'CRC': 726.285357,\n",
       "  'CUC': 1.186106,\n",
       "  'CUP': 31.431808,\n",
       "  'CVE': 110.373498,\n",
       "  'CZK': 26.36749,\n",
       "  'DJF': 210.559703,\n",
       "  'DKK': 7.446124,\n",
       "  'DOP': 69.166746,\n",
       "  'DZD': 152.415788,\n",
       "  'EGP': 18.569624,\n",
       "  'ERN': 17.79132,\n",
       "  'ETB': 45.085837,\n",
       "  'EUR': 1,\n",
       "  'FJD': 2.490344,\n",
       "  'FKP': 0.895869,\n",
       "  'GBP': 0.89586,\n",
       "  'GEL': 3.90262,\n",
       "  'GGP': 0.895869,\n",
       "  'GHS': 6.899482,\n",
       "  'GIP': 0.895869,\n",
       "  'GMD': 61.42856,\n",
       "  'GNF': 11594.344587,\n",
       "  'GTQ': 9.20625,\n",
       "  'GYD': 247.132934,\n",
       "  'HKD': 9.196176,\n",
       "  'HNL': 29.038404,\n",
       "  'HRK': 7.568063,\n",
       "  'HTG': 75.754055,\n",
       "  'HUF': 357.474552,\n",
       "  'IDR': 16742.478606,\n",
       "  'ILS': 3.995339,\n",
       "  'IMP': 0.895869,\n",
       "  'INR': 88.361925,\n",
       "  'IQD': 1411.957983,\n",
       "  'IRR': 49940.991515,\n",
       "  'ISK': 161.499654,\n",
       "  'JEP': 0.895869,\n",
       "  'JMD': 175.122142,\n",
       "  'JOD': 0.840946,\n",
       "  'JPY': 123.842489,\n",
       "  'KES': 129.585489,\n",
       "  'KGS': 100.580314,\n",
       "  'KHR': 4811.377782,\n",
       "  'KMF': 493.597835,\n",
       "  'KPW': 1067.542751,\n",
       "  'KRW': 1313.398536,\n",
       "  'KWD': 0.362485,\n",
       "  'KYD': 0.985394,\n",
       "  'KZT': 508.619928,\n",
       "  'LAK': 10975.74602,\n",
       "  'LBP': 1793.045124,\n",
       "  'LKR': 218.391715,\n",
       "  'LRD': 188.590636,\n",
       "  'LSL': 18.396758,\n",
       "  'LTL': 3.502263,\n",
       "  'LVL': 0.717463,\n",
       "  'LYD': 1.6125,\n",
       "  'MAD': 10.822138,\n",
       "  'MDL': 20.248419,\n",
       "  'MGA': 4677.129583,\n",
       "  'MKD': 61.673025,\n",
       "  'MMK': 1531.640542,\n",
       "  'MNT': 3370.410061,\n",
       "  'MOP': 9.446013,\n",
       "  'MRO': 423.440436,\n",
       "  'MUR': 47.567309,\n",
       "  'MVR': 18.283887,\n",
       "  'MWK': 899.814215,\n",
       "  'MXN': 24.04053,\n",
       "  'MYR': 4.882601,\n",
       "  'MZN': 87.208466,\n",
       "  'NAD': 18.396297,\n",
       "  'NGN': 452.203129,\n",
       "  'NIO': 41.21822,\n",
       "  'NOK': 10.779319,\n",
       "  'NPR': 141.224822,\n",
       "  'NZD': 1.722817,\n",
       "  'OMR': 0.456659,\n",
       "  'PAB': 1.182663,\n",
       "  'PEN': 4.308936,\n",
       "  'PGK': 4.158251,\n",
       "  'PHP': 57.152569,\n",
       "  'PKR': 186.871911,\n",
       "  'PLN': 4.470672,\n",
       "  'PYG': 8317.30342,\n",
       "  'QAR': 4.318626,\n",
       "  'RON': 4.868611,\n",
       "  'RSD': 117.567102,\n",
       "  'RUB': 91.1303,\n",
       "  'RWF': 1168.141476,\n",
       "  'SAR': 4.448873,\n",
       "  'SBD': 9.609767,\n",
       "  'SCR': 24.37726,\n",
       "  'SDG': 65.5919,\n",
       "  'SEK': 10.252528,\n",
       "  'SGD': 1.594842,\n",
       "  'SHP': 0.895869,\n",
       "  'SLL': 11849.197906,\n",
       "  'SOS': 691.500049,\n",
       "  'SRD': 16.788129,\n",
       "  'STD': 24946.068967,\n",
       "  'SVC': 10.346339,\n",
       "  'SYP': 608.398226,\n",
       "  'SZL': 18.513321,\n",
       "  'THB': 35.798455,\n",
       "  'TJS': 13.399772,\n",
       "  'TMT': 4.163232,\n",
       "  'TND': 3.262383,\n",
       "  'TOP': 2.729232,\n",
       "  'TRY': 9.063982,\n",
       "  'TTD': 8.025068,\n",
       "  'TWD': 33.834262,\n",
       "  'TZS': 2750.580003,\n",
       "  'UAH': 33.257304,\n",
       "  'UGX': 4370.996737,\n",
       "  'USD': 1.186106,\n",
       "  'UYU': 50.623764,\n",
       "  'UZS': 12254.30649,\n",
       "  'VEF': 11.846232,\n",
       "  'VND': 27488.598557,\n",
       "  'VUV': 133.193023,\n",
       "  'WST': 3.07876,\n",
       "  'XAF': 656.486102,\n",
       "  'XAG': 0.047479,\n",
       "  'XAU': 0.000626,\n",
       "  'XCD': 3.20551,\n",
       "  'XDR': 0.833472,\n",
       "  'XOF': 656.486102,\n",
       "  'XPF': 120.145444,\n",
       "  'YER': 296.846609,\n",
       "  'ZAR': 18.318577,\n",
       "  'ZMK': 10676.373443,\n",
       "  'ZMW': 24.725027,\n",
       "  'ZWL': 381.926047}}"
      ]
     },
     "execution_count": 3,
     "metadata": {},
     "output_type": "execute_result"
    }
   ],
   "source": [
    "response.json()"
   ]
  },
  {
   "cell_type": "markdown",
   "metadata": {},
   "source": [
    "### Read specific data set"
   ]
  },
  {
   "cell_type": "code",
   "execution_count": 11,
   "metadata": {},
   "outputs": [
    {
     "data": {
      "text/plain": [
       "{'success': True,\n",
       " 'timestamp': 1605514145,\n",
       " 'base': 'EUR',\n",
       " 'date': '2020-11-16',\n",
       " 'rates': {'USD': 1.186106, 'GBP': 0.89586, 'CAD': 1.553212, 'INR': 88.361925}}"
      ]
     },
     "execution_count": 11,
     "metadata": {},
     "output_type": "execute_result"
    }
   ],
   "source": [
    "import requests\n",
    "\n",
    "url = \"http://data.fixer.io/api/latest?access_key=c7ccf53a014674baa6f92a63ee62b6eb&base=EUR&symbols=USD,GBP,CAD,INR\"\n",
    "\n",
    "response = requests.get(url)\n",
    "response.json()\n"
   ]
  },
  {
   "cell_type": "markdown",
   "metadata": {},
   "source": [
    "### Perform a function or Store json values in variable"
   ]
  },
  {
   "cell_type": "code",
   "execution_count": 12,
   "metadata": {},
   "outputs": [
    {
     "name": "stdout",
     "output_type": "stream",
     "text": [
      "1 CAD = 56.88980319492767 INR\n"
     ]
    }
   ],
   "source": [
    "import json\n",
    "\n",
    "data = response.text\n",
    "parsed = json.loads(data)\n",
    "\n",
    "e_cad = parsed[\"rates\"][\"CAD\"]\n",
    "e_inr = parsed[\"rates\"][\"INR\"]\n",
    "\n",
    "c_base = 1 / e_cad\n",
    "c_inr  = c_base * e_inr\n",
    "\n",
    "print(\"1 CAD = {} INR\".format(c_inr))"
   ]
  },
  {
   "cell_type": "markdown",
   "metadata": {},
   "source": [
    "### Using pandas"
   ]
  },
  {
   "cell_type": "code",
   "execution_count": 14,
   "metadata": {},
   "outputs": [
    {
     "name": "stdout",
     "output_type": "stream",
     "text": [
      "     success   timestamp base        date      rates\n",
      "CAD     True  1605514145  EUR  2020-11-16   1.553212\n",
      "GBP     True  1605514145  EUR  2020-11-16   0.895860\n",
      "INR     True  1605514145  EUR  2020-11-16  88.361925\n",
      "USD     True  1605514145  EUR  2020-11-16   1.186106\n"
     ]
    }
   ],
   "source": [
    "import pandas as pd\n",
    "import json\n",
    "\n",
    "df = pd.DataFrame(json.loads(response.text))\n",
    "print(df) "
   ]
  },
  {
   "cell_type": "code",
   "execution_count": null,
   "metadata": {},
   "outputs": [],
   "source": []
  }
 ],
 "metadata": {
  "kernelspec": {
   "display_name": "Python 3",
   "language": "python",
   "name": "python3"
  },
  "language_info": {
   "codemirror_mode": {
    "name": "ipython",
    "version": 3
   },
   "file_extension": ".py",
   "mimetype": "text/x-python",
   "name": "python",
   "nbconvert_exporter": "python",
   "pygments_lexer": "ipython3",
   "version": "3.7.6"
  }
 },
 "nbformat": 4,
 "nbformat_minor": 4
}
